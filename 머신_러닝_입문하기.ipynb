{
  "nbformat": 4,
  "nbformat_minor": 0,
  "metadata": {
    "colab": {
      "provenance": []
    },
    "kernelspec": {
      "name": "python3",
      "display_name": "Python 3"
    },
    "language_info": {
      "name": "python"
    }
  },
  "cells": [
    {
      "cell_type": "markdown",
      "source": [
        "# 3-1 선형 회귀와 자동 미분\n",
        "## 1. 훈련 데이터셋의 구성\n",
        "- 학습 데이터는 파이토치의 텐서의 형태를 가져야한다.\n",
        "- 입력과 출력을 각기 다른 텐서에 저장할 필요가 있다.\n",
        "- `x_train = torch.FloatTensor([[1], [2], [3]])`\n",
        "- `y_train = torch.FloatTensor([[2], [4], [6]])`\n",
        "- 여기서 x_train은 공부한 시간, y_train은 그에 맵핑되는 점수를 의미한다.\n",
        "\n",
        "## 2. 가설(Hypothesis) 수립\n",
        "- 머신 러닝에서 식을 세울 때 이 식을 가설이라고 한다.\n",
        "- 보통 머신 러닝에서 가설은 임의로 추측해서 세워보는 식일수도 있고, 경험적으로 알고 있는 식일 수도 있다.\n",
        "- 맞는 가설이 아니라고 판단되면 계속 수정해나가게 되는 식이기도 하다.\n",
        "- 선형 회귀란 학습 데이터와 가장 잘 맞는 하나의 직선을 찾는 일이다.\n",
        "- 이 때 선형 회귀의 가설은 **y = Wx + b**와 같은 형태이다.\n",
        "- **H(x) = Wx + b**처럼 표현하기도 한다.\n",
        "- 이때 x와 곱해지는 **W**를 가중치라고 하며, b를 편향이라고 한다.\n",
        "\n",
        "## 3. 비용 함수에 대한 이해\n",
        "- **비용 함수(cost function) = 손실 함수(loss function) = 오차 함수(error function) = 목적 함수(objective function)**\n",
        "- MSE(Mean Squared Error) : $\\frac{1}{n} \\sum_{i=0}^{n}[y^i - H(x^i)]^2$\n",
        "- 평균 제곱 오차는 회귀 문제에서 적절한 **W**와 b를 찾기위해서 최적화된 식이다.\n",
        "- 평균 제곱 오차의 값을 최소값으로 만드는 **W**와 b를 찾아내는 것이 가장 훈련 데이터를 잘 반영한 직선을 찾아내는 일이기 때문이다.\n",
        "- Cost(W, b) = $\\frac{1}{n} \\sum_{i=0}^{n}[y^i - H(x^i)]^2$\n",
        "- Cost(W, b)를 최소가 되게 만드는 W와 b를 구하면 훈련 데이터를 가장 잘 나타내는 직선을 구할 수 있다.\n",
        "\n",
        "## 4. 옵티마이저 - 경사 하강법\n",
        "- cost가 최소화가 되는 지점은 접선의 기울기가 0이 되는 지점이며, 또한 미분값이 0이 되는 지점이다.\n",
        "- 경사 하강법의 아이디어는 비용 함수를 미분하여 현재 **W**에서의 접선의 기울기를 구하고, 접선의 기울기가 낮은 방향으로 **W**의 값을 변경하는 작업을 반복하는 것에 있다.\n",
        "- 현재 **W**에 접선의 기울기를 구해 특정 숫자 α를 곱한 값을 빼서 새로운 **W**로 사용하는 식이 사용된다.\n",
        "- gradient = $\\frac{∂cost(W)}{∂W}$\n",
        "- **기울기가 음수일 때 : W의 값이 증가**\n",
        "  - $W := W - α\\times (-gradient) = W + α\\times gradient$\n",
        "  - 기울기가 음수면 **W**의 값이 증가하는데 이는 결과적으로 접선의 기울기가 0인 방향으로 **W**의 값이 조정된다.\n",
        "- **기울기가 양수일 때 : W의 값이 감소**\n",
        "  - $W := W - α\\times (+gradient)$\n",
        "  - 기울기가 양수면 **W**의 값이 감소하게 되는 이는 결과적으로 기울기가 0인 방향으로 **W**의 값이 조정된다.\n",
        "- $W := W - α\\times \\frac{∂}{∂W}cost(W)$\n",
        "  - 이 수식은 접선의 기울기가음수거나, 양수일 때 모두 접선의 기울기가 0인 방향으로 **W**의 값을 조정한다.\n",
        "- 학습률 α는 **W**의 값을 변경할 때, 얼마나 크게 변경할지를 결정한다.\n",
        "- 학습률이 지나치게 클 경우 접선의 기울기가 0이 되는 **W**를 찾아가는 것이 아니라 cost의 값이 발산한다.\n",
        "- 지나치게 낮은 값을 가지면 학습 속도가 느려지므로 적당한 α의 값을 찾아내는 것도 중요하다.\n"
      ],
      "metadata": {
        "id": "6VbfFYCkarEX"
      }
    },
    {
      "cell_type": "code",
      "execution_count": null,
      "metadata": {
        "colab": {
          "base_uri": "https://localhost:8080/"
        },
        "id": "ah4MzxGValJT",
        "outputId": "dde8806d-37c6-4887-ff5c-29edb090ce20"
      },
      "outputs": [
        {
          "output_type": "execute_result",
          "data": {
            "text/plain": [
              "<torch._C.Generator at 0x79d70de1a350>"
            ]
          },
          "metadata": {},
          "execution_count": 2
        }
      ],
      "source": [
        "# 파이토치로 선형 회귀 구현하기\n",
        "# 1) 기본 셋팅\n",
        "import torch\n",
        "import torch.nn as nn\n",
        "import torch.nn.functional as F\n",
        "import torch.optim as optim\n",
        "\n",
        "# 재실행해도 같은 결과가 나오도록 랜덤 시드 설정\n",
        "torch.manual_seed(1)"
      ]
    },
    {
      "cell_type": "code",
      "source": [
        "# 2) 변수 선언\n",
        "x_train = torch.FloatTensor([[1], [2], [3]])\n",
        "y_train = torch.FloatTensor([[2], [4], [6]])\n",
        "\n",
        "# 각 데이터 출력 및 크기 출력\n",
        "print(x_train)\n",
        "print(x_train.shape)\n",
        "print(y_train)\n",
        "print(y_train.shape)"
      ],
      "metadata": {
        "colab": {
          "base_uri": "https://localhost:8080/"
        },
        "id": "wmIA88FJlL9P",
        "outputId": "d079d65d-446d-4ee3-c822-80b5205acd80"
      },
      "execution_count": null,
      "outputs": [
        {
          "output_type": "stream",
          "name": "stdout",
          "text": [
            "tensor([[1.],\n",
            "        [2.],\n",
            "        [3.]])\n",
            "torch.Size([3, 1])\n",
            "tensor([[2.],\n",
            "        [4.],\n",
            "        [6.]])\n",
            "torch.Size([3, 1])\n"
          ]
        }
      ]
    },
    {
      "cell_type": "code",
      "source": [
        "# 3) 가중치와 편향의 초기화\n",
        "# 가중치 W를 0으로 초기화하고 학습을 통해 값이 변경되는 변수임을 명시함.\n",
        "# requires_grad=True -> 학습을 통해 계속 값이 변경되는 변수임을 의미\n",
        "W = torch.zeros(1, requires_grad=True)\n",
        "print(W)\n",
        "b = torch.zeros(1, requires_grad=True)\n",
        "print(b)"
      ],
      "metadata": {
        "colab": {
          "base_uri": "https://localhost:8080/"
        },
        "id": "THcxCsEVlk5-",
        "outputId": "86a809b1-7b6c-46c9-8c8a-873220f7f732"
      },
      "execution_count": null,
      "outputs": [
        {
          "output_type": "stream",
          "name": "stdout",
          "text": [
            "tensor([0.], requires_grad=True)\n",
            "tensor([0.], requires_grad=True)\n"
          ]
        }
      ]
    },
    {
      "cell_type": "code",
      "source": [
        "# 4) 가설 세우기\n",
        "# H(x) = Wx + b\n",
        "hypothesis = x_train * W + b\n",
        "print(hypothesis)"
      ],
      "metadata": {
        "colab": {
          "base_uri": "https://localhost:8080/"
        },
        "id": "xot13_almEXi",
        "outputId": "ac49ebe0-f302-4c83-f565-75191e4542cd"
      },
      "execution_count": null,
      "outputs": [
        {
          "output_type": "stream",
          "name": "stdout",
          "text": [
            "tensor([[0.],\n",
            "        [0.],\n",
            "        [0.]], grad_fn=<AddBackward0>)\n"
          ]
        }
      ]
    },
    {
      "cell_type": "code",
      "source": [
        "# 5) 비용 함수 선언하기\n",
        "# 평균 제곱 오차 선언\n",
        "cost = torch.mean((hypothesis - y_train) ** 2)\n",
        "print(cost)"
      ],
      "metadata": {
        "colab": {
          "base_uri": "https://localhost:8080/"
        },
        "id": "P-cA6OS9ma58",
        "outputId": "6b0493c8-214b-4831-deb1-793b8edfd3ed"
      },
      "execution_count": null,
      "outputs": [
        {
          "output_type": "stream",
          "name": "stdout",
          "text": [
            "tensor(18.6667, grad_fn=<MeanBackward0>)\n"
          ]
        }
      ]
    },
    {
      "cell_type": "code",
      "source": [
        "# 6) 경사 하강법 구현하기\n",
        "optimizer = optim.SGD([W, b], lr=0.01)\n",
        "# optimizer.zero_grad()를 실행하므로서 미분을 통해얻은 기울기를 0으로 초기화\n",
        "'''\n",
        "보통 딥러닝에서는 미니배치 + 루프 조합을 사용해서 parameter들을 업데이트 하는데,\n",
        "한 루프에서 업데이트를 위해 loss.backward()를 호출하면 각 파라미터들의 .grad 값에 변화도가 저장된다.\n",
        "이후 다음 루프에서 zero_grad()를 하지 않고 역전파를 시키면 이전 루프에서 .grad에 저장된 값이\n",
        "다음 루프의 업데이트에도 간섭을 해서 원하는 방향으로 학습이 되지 않는다.\n",
        "따라서 루프가 한 번 돌고나서 역전파를 하기전에 반드시 zero_grad()로 .grad 값들을 0으로 초기화시킨 후 학습을 진행해야한다.\n",
        "'''\n",
        "# cost.backward() 함수를 호출하면 가중치 W와 편향 b에 대한 기울기가 계산된다.\n",
        "# optimizer.step() 함수를 호출하여 인수로 들어갔던 W와 b에서 리턴되는 변수들의 기울기에 학습률 0.01을 곱하여 빼줌으로서 업데이트한다."
      ],
      "metadata": {
        "colab": {
          "base_uri": "https://localhost:8080/",
          "height": 124
        },
        "collapsed": true,
        "id": "zhglviZlmqat",
        "outputId": "3a11b1e0-6a82-4e4b-9cb5-8a6e72ed00e2"
      },
      "execution_count": null,
      "outputs": [
        {
          "output_type": "execute_result",
          "data": {
            "text/plain": [
              "'\\n보통 딥러닝에서는 미니배치 + 루프 조합을 사용해서 parameter들을 업데이트 하는데,\\n한 루프에서 업데이트를 위해 loss.backward()를 호출하면 각 파라미터들의 .grad 값에 변화도가 저장된다.\\n이후 다음 루프에서 zero_grad()를 하지 않고 역전파를 시키면 이전 루프에서 .grad에 저장된 값이\\n다음 루프의 업데이트에도 간섭을 해서 원하는 방향으로 학습이 되지 않는다.\\n따라서 루프가 한 번 돌고나서 역전파를 하기전에 반드시 zero_grad()로 .grad 값들을 0으로 초기화시킨 후 학습을 진행해야한다.\\n'"
            ],
            "application/vnd.google.colaboratory.intrinsic+json": {
              "type": "string"
            }
          },
          "metadata": {},
          "execution_count": 8
        }
      ]
    },
    {
      "cell_type": "code",
      "source": [
        "# 7) 전체 코드\n",
        "# 데이터\n",
        "x_train = torch.FloatTensor([[1], [2], [3]])\n",
        "y_train = torch.FloatTensor([[2], [4], [6]])\n",
        "# 모델 초기화\n",
        "W = torch.zeros(1, requires_grad=True)\n",
        "b = torch.zeros(1, requires_grad=True)\n",
        "# optimizer 설정\n",
        "optimizer = optim.SGD([W, b], lr=0.01)\n",
        "\n",
        "nb_epochs = 1999 # 원하는만큼 경사 하강법을 반복\n",
        "for epoch in range(nb_epochs + 1):\n",
        "  # H(x) 계산\n",
        "  hypothesis = x_train * W + b\n",
        "\n",
        "  # cost 계산\n",
        "  cost = torch.mean((hypothesis - y_train) ** 2)\n",
        "\n",
        "  # cost로 H(x) 개선\n",
        "  optimizer.zero_grad()\n",
        "  cost.backward()\n",
        "  optimizer.step()\n",
        "\n",
        "  # 100번마다 로그 출력\n",
        "  if epoch % 100 == 0:\n",
        "    print('Epoch {:4d}/{} W: {:.3f}, b: {:.3f} Cost: {:.6f}'.format(\n",
        "        epoch, nb_epochs, W.item(), b.item(), cost.item()\n",
        "    ))"
      ],
      "metadata": {
        "colab": {
          "base_uri": "https://localhost:8080/"
        },
        "id": "r4hCPyPKo2XZ",
        "outputId": "14e0a32c-b48b-4c4a-fbeb-8cbe42856ae6"
      },
      "execution_count": null,
      "outputs": [
        {
          "output_type": "stream",
          "name": "stdout",
          "text": [
            "Epoch    0/1999 W: 0.187, b: 0.080 Cost: 18.666666\n",
            "Epoch  100/1999 W: 1.746, b: 0.578 Cost: 0.048171\n",
            "Epoch  200/1999 W: 1.800, b: 0.454 Cost: 0.029767\n",
            "Epoch  300/1999 W: 1.843, b: 0.357 Cost: 0.018394\n",
            "Epoch  400/1999 W: 1.876, b: 0.281 Cost: 0.011366\n",
            "Epoch  500/1999 W: 1.903, b: 0.221 Cost: 0.007024\n",
            "Epoch  600/1999 W: 1.924, b: 0.174 Cost: 0.004340\n",
            "Epoch  700/1999 W: 1.940, b: 0.136 Cost: 0.002682\n",
            "Epoch  800/1999 W: 1.953, b: 0.107 Cost: 0.001657\n",
            "Epoch  900/1999 W: 1.963, b: 0.084 Cost: 0.001024\n",
            "Epoch 1000/1999 W: 1.971, b: 0.066 Cost: 0.000633\n",
            "Epoch 1100/1999 W: 1.977, b: 0.052 Cost: 0.000391\n",
            "Epoch 1200/1999 W: 1.982, b: 0.041 Cost: 0.000242\n",
            "Epoch 1300/1999 W: 1.986, b: 0.032 Cost: 0.000149\n",
            "Epoch 1400/1999 W: 1.989, b: 0.025 Cost: 0.000092\n",
            "Epoch 1500/1999 W: 1.991, b: 0.020 Cost: 0.000057\n",
            "Epoch 1600/1999 W: 1.993, b: 0.016 Cost: 0.000035\n",
            "Epoch 1700/1999 W: 1.995, b: 0.012 Cost: 0.000022\n",
            "Epoch 1800/1999 W: 1.996, b: 0.010 Cost: 0.000013\n",
            "Epoch 1900/1999 W: 1.997, b: 0.008 Cost: 0.000008\n"
          ]
        }
      ]
    },
    {
      "cell_type": "code",
      "source": [
        "# 6) optimizer.zero_grad()가 필요한 이유\n",
        "# 파이토치는 미분을 통해 얻은 기울기를 이전에 계산된 기울기 값에 누적시키는 특징이 있다.\n",
        "\n",
        "w = torch.tensor(2.0, requires_grad=True)\n",
        "\n",
        "nb_epochs = 20\n",
        "for epoch in range(nb_epochs + 1):\n",
        "  z = 2 * w\n",
        "\n",
        "  z.backward()\n",
        "  print('수식을 w로 미분한 값 : {}'.format(w.grad))"
      ],
      "metadata": {
        "colab": {
          "base_uri": "https://localhost:8080/"
        },
        "id": "r0WccVkpqEbJ",
        "outputId": "d20d1443-d765-43a3-d12f-6ca03892e82f"
      },
      "execution_count": null,
      "outputs": [
        {
          "output_type": "stream",
          "name": "stdout",
          "text": [
            "수식을 w로 미분한 값 : 2.0\n",
            "수식을 w로 미분한 값 : 4.0\n",
            "수식을 w로 미분한 값 : 6.0\n",
            "수식을 w로 미분한 값 : 8.0\n",
            "수식을 w로 미분한 값 : 10.0\n",
            "수식을 w로 미분한 값 : 12.0\n",
            "수식을 w로 미분한 값 : 14.0\n",
            "수식을 w로 미분한 값 : 16.0\n",
            "수식을 w로 미분한 값 : 18.0\n",
            "수식을 w로 미분한 값 : 20.0\n",
            "수식을 w로 미분한 값 : 22.0\n",
            "수식을 w로 미분한 값 : 24.0\n",
            "수식을 w로 미분한 값 : 26.0\n",
            "수식을 w로 미분한 값 : 28.0\n",
            "수식을 w로 미분한 값 : 30.0\n",
            "수식을 w로 미분한 값 : 32.0\n",
            "수식을 w로 미분한 값 : 34.0\n",
            "수식을 w로 미분한 값 : 36.0\n",
            "수식을 w로 미분한 값 : 38.0\n",
            "수식을 w로 미분한 값 : 40.0\n",
            "수식을 w로 미분한 값 : 42.0\n"
          ]
        }
      ]
    },
    {
      "cell_type": "code",
      "source": [
        "'''\n",
        "텐서에는 requires_grad라는 속성이 있는데 이것을 True로 설정하면 자동 미분 기능이 적용된다.\n",
        "선형 회귀부터 신경망과 같은 복잡한 구조에서 파라미터들이 모두 이 기능이 적용된다.\n",
        "requires_grad = True가 적용된 텐서에 연산을 하면, 계산 그래프가 생성되며 backward 함수를 호출하면\n",
        "그래프로부터 자동으로 미분이 계산된다.\n",
        "'''"
      ],
      "metadata": {
        "id": "os8gCAm8rIzg"
      },
      "execution_count": null,
      "outputs": []
    },
    {
      "cell_type": "code",
      "source": [
        "# 8) 자동 미분 실습하기\n",
        "# 값이 2인 임의의 스칼라 텐서 w 선언\n",
        "# requires_grad=True로 설정하면 이 텐서에 대한 기울기를 저장하겠다는 의미이다.\n",
        "w = torch.tensor(2.0, requires_grad=True)\n",
        "y = w ** 2\n",
        "z = 2 * y + 5\n",
        "z.backward()\n",
        "print(f'수식을 w로 미분한 값 : {w.grad}')"
      ],
      "metadata": {
        "colab": {
          "base_uri": "https://localhost:8080/"
        },
        "id": "PpMpIGxrrbdz",
        "outputId": "2e25d1aa-b4d7-4329-9b1b-784ec7cc68ad"
      },
      "execution_count": null,
      "outputs": [
        {
          "output_type": "stream",
          "name": "stdout",
          "text": [
            "수식을 w로 미분한 값 : 8.0\n"
          ]
        }
      ]
    },
    {
      "cell_type": "markdown",
      "source": [
        "# 3-2 다중 선형 회귀\n",
        "$H(x) = w_1x_1 + w_2x_2 + w_3x_3 + b$"
      ],
      "metadata": {
        "id": "TDmW2lqE1KG7"
      }
    },
    {
      "cell_type": "code",
      "source": [
        "# 파이토치로 구현하기\n",
        "import torch\n",
        "import torch.nn as nn\n",
        "import torch.nn.functional as F\n",
        "import torch.optim as optim\n",
        "\n",
        "torch.manual_seed(1)\n",
        "\n",
        "# 훈련 데이터\n",
        "x1_train = torch.FloatTensor([[73], [93], [89], [96], [73]])\n",
        "x2_train = torch.FloatTensor([[80], [88], [91], [98], [66]])\n",
        "x3_train = torch.FloatTensor([[75], [93], [90], [100], [70]])\n",
        "y_train = torch.FloatTensor([[152], [185], [180], [196], [142]])\n",
        "\n",
        "# 가중치 w와 편향 b 초기화\n",
        "w1 = torch.zeros(1, requires_grad=True)\n",
        "w2 = torch.zeros(1, requires_grad=True)\n",
        "w3 = torch.zeros(1, requires_grad=True)\n",
        "b = torch.zeros(1, requires_grad=True)\n",
        "\n",
        "# optimizer 설정\n",
        "optimizer = optim.SGD([w1, w2, w3, b], lr=1e-5)\n",
        "\n",
        "nb_epochs = 1000\n",
        "for epoch in range(nb_epochs + 1):\n",
        "\n",
        "  # H(x) 계산\n",
        "  hypothesis = x1_train * w1 + x2_train * w2 + x3_train * w3 + b\n",
        "\n",
        "  # cost 계산\n",
        "  cost = torch.mean((hypothesis - y_train) ** 2)\n",
        "\n",
        "  # cost로 H(x) 개선\n",
        "  optimizer.zero_grad()\n",
        "  cost.backward()\n",
        "  optimizer.step()\n",
        "\n",
        "  # 100번마다 로그 출력\n",
        "  if epoch % 100 == 0:\n",
        "    print('Epoch {:4d}/{} w1: {:.3f} w2: {:.3f} w3: {:.3f} b: {:.3f} Cost: {:.6f}'.format(\n",
        "        epoch, nb_epochs, w1.item(), w2.item(), w3.item(), b.item(), cost.item()\n",
        "    ))"
      ],
      "metadata": {
        "id": "8XDIxIBiryz5",
        "colab": {
          "base_uri": "https://localhost:8080/"
        },
        "outputId": "4e6c17f2-9252-4c29-d27c-85a0ec8b4009"
      },
      "execution_count": 3,
      "outputs": [
        {
          "output_type": "stream",
          "name": "stdout",
          "text": [
            "Epoch    0/1000 w1: 0.294 w2: 0.294 w3: 0.297 b: 0.003 Cost: 29661.800781\n",
            "Epoch  100/1000 w1: 0.674 w2: 0.661 w3: 0.676 b: 0.008 Cost: 1.563628\n",
            "Epoch  200/1000 w1: 0.679 w2: 0.655 w3: 0.677 b: 0.008 Cost: 1.497595\n",
            "Epoch  300/1000 w1: 0.684 w2: 0.649 w3: 0.677 b: 0.008 Cost: 1.435044\n",
            "Epoch  400/1000 w1: 0.689 w2: 0.643 w3: 0.678 b: 0.008 Cost: 1.375726\n",
            "Epoch  500/1000 w1: 0.694 w2: 0.638 w3: 0.678 b: 0.009 Cost: 1.319507\n",
            "Epoch  600/1000 w1: 0.699 w2: 0.633 w3: 0.679 b: 0.009 Cost: 1.266222\n",
            "Epoch  700/1000 w1: 0.704 w2: 0.627 w3: 0.679 b: 0.009 Cost: 1.215703\n",
            "Epoch  800/1000 w1: 0.709 w2: 0.622 w3: 0.679 b: 0.009 Cost: 1.167810\n",
            "Epoch  900/1000 w1: 0.713 w2: 0.617 w3: 0.680 b: 0.009 Cost: 1.122429\n",
            "Epoch 1000/1000 w1: 0.718 w2: 0.613 w3: 0.680 b: 0.009 Cost: 1.079390\n"
          ]
        }
      ]
    },
    {
      "cell_type": "code",
      "source": [
        "# 벡터와 행렬 연산으로 바꾸기\n",
        "# 벡터와 행렬 연산은 식을 간단하게 해줄 뿐만 아니라 다수의 샘플의 병렬 연산이므로 속도의 이점을 가짐\n",
        "x_train = torch.FloatTensor([[73, 80, 75],\n",
        "                             [93, 88, 93],\n",
        "                             [89, 91, 80],\n",
        "                             [96, 98, 100],\n",
        "                             [73, 66, 70]])\n",
        "y_train = torch.FloatTensor([[152], [185], [180], [196], [142]])\n",
        "\n",
        "# x_train과 y_train의 크기 출력\n",
        "print(x_train.shape)\n",
        "print(y_train.shape)"
      ],
      "metadata": {
        "colab": {
          "base_uri": "https://localhost:8080/"
        },
        "id": "b3ZXD_UJDyU-",
        "outputId": "4ac3697c-5aef-4577-f8ec-90ccf8e79e46"
      },
      "execution_count": 4,
      "outputs": [
        {
          "output_type": "stream",
          "name": "stdout",
          "text": [
            "torch.Size([5, 3])\n",
            "torch.Size([5, 1])\n"
          ]
        }
      ]
    },
    {
      "cell_type": "code",
      "source": [
        "# 가중치와 편향 선언\n",
        "W = torch.zeros((3, 1), requires_grad=True)\n",
        "b = torch.zeros(1, requires_grad=True)\n",
        "\n",
        "# optimizer 설정\n",
        "optimizer = optim.SGD([W, b], lr=1e-5)\n",
        "\n",
        "nb_epochs = 20\n",
        "for epoch in range(nb_epochs + 1):\n",
        "  # H(x) 계산\n",
        "  hypothesis = x_train.matmul(W) + b\n",
        "\n",
        "  # cost 계산\n",
        "  cost = torch.mean((hypothesis - y_train) ** 2)\n",
        "\n",
        "  # cost로 H(x) 개선\n",
        "  optimizer.zero_grad()\n",
        "  cost.backward()\n",
        "  optimizer.step()\n",
        "\n",
        "  print('Epoch {:4d}/{} hypothesis: {} Cost: {:.6f}'.format(\n",
        "        epoch, nb_epochs, hypothesis.squeeze().detach(), cost.item()\n",
        "    ))"
      ],
      "metadata": {
        "colab": {
          "base_uri": "https://localhost:8080/"
        },
        "id": "grRYAX5vGTmy",
        "outputId": "6e068e13-d44b-43f6-ba88-e2dc1f55f98b"
      },
      "execution_count": 5,
      "outputs": [
        {
          "output_type": "stream",
          "name": "stdout",
          "text": [
            "Epoch    0/20 hypothesis: tensor([0., 0., 0., 0., 0.]) Cost: 29661.800781\n",
            "Epoch    1/20 hypothesis: tensor([66.7178, 80.1701, 76.1025, 86.0194, 61.1565]) Cost: 9537.694336\n",
            "Epoch    2/20 hypothesis: tensor([104.5421, 125.6208, 119.2478, 134.7862,  95.8280]) Cost: 3069.590088\n",
            "Epoch    3/20 hypothesis: tensor([125.9858, 151.3882, 143.7087, 162.4333, 115.4844]) Cost: 990.670288\n",
            "Epoch    4/20 hypothesis: tensor([138.1429, 165.9963, 157.5768, 178.1071, 126.6283]) Cost: 322.481873\n",
            "Epoch    5/20 hypothesis: tensor([145.0350, 174.2780, 165.4395, 186.9928, 132.9461]) Cost: 107.717064\n",
            "Epoch    6/20 hypothesis: tensor([148.9423, 178.9730, 169.8976, 192.0301, 136.5279]) Cost: 38.687496\n",
            "Epoch    7/20 hypothesis: tensor([151.1574, 181.6346, 172.4254, 194.8856, 138.5585]) Cost: 16.499043\n",
            "Epoch    8/20 hypothesis: tensor([152.4131, 183.1435, 173.8590, 196.5043, 139.7097]) Cost: 9.365656\n",
            "Epoch    9/20 hypothesis: tensor([153.1250, 183.9988, 174.6723, 197.4217, 140.3625]) Cost: 7.071114\n",
            "Epoch   10/20 hypothesis: tensor([153.5285, 184.4835, 175.1338, 197.9415, 140.7325]) Cost: 6.331847\n",
            "Epoch   11/20 hypothesis: tensor([153.7572, 184.7582, 175.3958, 198.2360, 140.9424]) Cost: 6.092532\n",
            "Epoch   12/20 hypothesis: tensor([153.8868, 184.9138, 175.5449, 198.4026, 141.0613]) Cost: 6.013817\n",
            "Epoch   13/20 hypothesis: tensor([153.9602, 185.0019, 175.6299, 198.4969, 141.1288]) Cost: 5.986785\n",
            "Epoch   14/20 hypothesis: tensor([154.0017, 185.0517, 175.6785, 198.5500, 141.1671]) Cost: 5.976325\n",
            "Epoch   15/20 hypothesis: tensor([154.0252, 185.0798, 175.7065, 198.5800, 141.1888]) Cost: 5.971208\n",
            "Epoch   16/20 hypothesis: tensor([154.0385, 185.0956, 175.7229, 198.5966, 141.2012]) Cost: 5.967835\n",
            "Epoch   17/20 hypothesis: tensor([154.0459, 185.1045, 175.7326, 198.6059, 141.2082]) Cost: 5.964969\n",
            "Epoch   18/20 hypothesis: tensor([154.0501, 185.1094, 175.7386, 198.6108, 141.2122]) Cost: 5.962291\n",
            "Epoch   19/20 hypothesis: tensor([154.0524, 185.1120, 175.7424, 198.6134, 141.2145]) Cost: 5.959664\n",
            "Epoch   20/20 hypothesis: tensor([154.0536, 185.1134, 175.7451, 198.6145, 141.2158]) Cost: 5.957089\n"
          ]
        }
      ]
    },
    {
      "cell_type": "code",
      "source": [
        "# 임의의 값에 대한 예측\n",
        "# with torch.no_grad() : 이 블록 안에서 수행되는 모든 연산에 대해 역전파를 비활성화.\n",
        "# 예측을 할 때는 가중치를 업데이트할 필요가 없기 때문에, 메모리와 계산 자원을 절약하기 위해 torch.no_grad()를 사용하는 것이 좋음\n",
        "with torch.no_grad():\n",
        "  new_input = torch.FloatTensor([[75, 85, 72]]) # 예측하고 싶은 임의의 입력\n",
        "  prediction = new_input.matmul(W) + b\n",
        "  print('Predicted value for input {}: {}'.format(new_input.squeeze().tolist(), prediction.item()))"
      ],
      "metadata": {
        "colab": {
          "base_uri": "https://localhost:8080/"
        },
        "id": "3spGKbb8HFoX",
        "outputId": "695021d7-6a63-437b-844b-2958b04b194b"
      },
      "execution_count": 9,
      "outputs": [
        {
          "output_type": "stream",
          "name": "stdout",
          "text": [
            "Predicted value for input [75.0, 85.0, 72.0]: 156.8051300048828\n"
          ]
        }
      ]
    },
    {
      "cell_type": "markdown",
      "source": [
        "# 3-3 nn.Module과 클래스로 구현하기\n",
        "## 파이토치에 구현된 함수 사용\n",
        "- 선형회귀 모델은 nn.Linear()라는 함수로 구현되어 있음\n",
        "- 평균 제곱 오차는 nn.functional.mse_loss()라는 함수로 구현되어 있음"
      ],
      "metadata": {
        "id": "dmo4qSUVIIuT"
      }
    },
    {
      "cell_type": "code",
      "source": [
        "import torch\n",
        "import torch.nn as nn\n",
        "import torch.nn.functional as F\n",
        "\n",
        "torch.manual_seed(1)\n",
        "\n",
        "# 데이터\n",
        "x_train = torch.FloatTensor([[1], [2], [3]])\n",
        "y_train = torch.FloatTensor([[2], [4], [6]])\n",
        "\n",
        "# 모델을 선언 및 초기화. 단순 선형 회귀이므로 input_dim=1, output_dim=1.\n",
        "model = nn.Linear(1, 1)\n",
        "\n",
        "# model.parameters()라는 함수를 사용하면 가중치 W와 편향 b를 불러올 수 있음\n",
        "# 첫 번째 값이 W, 두 번째 값이 b\n",
        "print(list(model.parameters()))\n",
        "\n",
        "# optimizer 설정. 경사 하강법 SGD를 사용하고 learning rate를 의미하는 lr은 0.01\n",
        "optimizer = optim.SGD(model.parameters(), lr=0.01)\n",
        "\n",
        "# 전체 훈련 데이터에 대해 경사 하강법을 2,000회 반복\n",
        "nb_epochs = 2000\n",
        "for epoch in range(nb_epochs+1):\n",
        "  # H(x) 계산\n",
        "  prediction = model(x_train)\n",
        "\n",
        "  # cost 계산\n",
        "  cost = F.mse_loss(prediction, y_train) # <== 파이토치에서 제공하는 평균 제곱 오차 함수\n",
        "\n",
        "  # cost로 H(x) 개선하는 부분\n",
        "  optimizer.zero_grad() # gradient를 0으로 초기화\n",
        "  cost.backward() # 비용 함수를 미분하여 gradient 계산\n",
        "  optimizer.step() # W와 b를 업데이트\n",
        "\n",
        "  if epoch % 100 == 0:\n",
        "    print('Epoch {:4d}/{} Cost: {:.6f}'.format(\n",
        "        epoch, nb_epochs, cost.item()\n",
        "    ))"
      ],
      "metadata": {
        "colab": {
          "base_uri": "https://localhost:8080/"
        },
        "id": "Uq3MU0obHg7R",
        "outputId": "16b48fcc-e262-4d2a-f09f-07cd9e48ba67"
      },
      "execution_count": 13,
      "outputs": [
        {
          "output_type": "stream",
          "name": "stdout",
          "text": [
            "[Parameter containing:\n",
            "tensor([[0.5153]], requires_grad=True), Parameter containing:\n",
            "tensor([-0.4414], requires_grad=True)]\n",
            "Epoch    0/2000 Cost: 13.103541\n",
            "Epoch  100/2000 Cost: 0.002791\n",
            "Epoch  200/2000 Cost: 0.001724\n",
            "Epoch  300/2000 Cost: 0.001066\n",
            "Epoch  400/2000 Cost: 0.000658\n",
            "Epoch  500/2000 Cost: 0.000407\n",
            "Epoch  600/2000 Cost: 0.000251\n",
            "Epoch  700/2000 Cost: 0.000155\n",
            "Epoch  800/2000 Cost: 0.000096\n",
            "Epoch  900/2000 Cost: 0.000059\n",
            "Epoch 1000/2000 Cost: 0.000037\n",
            "Epoch 1100/2000 Cost: 0.000023\n",
            "Epoch 1200/2000 Cost: 0.000014\n",
            "Epoch 1300/2000 Cost: 0.000009\n",
            "Epoch 1400/2000 Cost: 0.000005\n",
            "Epoch 1500/2000 Cost: 0.000003\n",
            "Epoch 1600/2000 Cost: 0.000002\n",
            "Epoch 1700/2000 Cost: 0.000001\n",
            "Epoch 1800/2000 Cost: 0.000001\n",
            "Epoch 1900/2000 Cost: 0.000000\n",
            "Epoch 2000/2000 Cost: 0.000000\n"
          ]
        }
      ]
    },
    {
      "cell_type": "code",
      "source": [
        "# 임의의 입력 4를 선언\n",
        "new_var = torch.FloatTensor([[4.0]])\n",
        "# 입력한 값 4에 대해서 예측값 y를 리턴받아서 pred_y에 저장\n",
        "pred_y = model(new_var) # forward 연산\n",
        "print('훈련 후 입력이 4일 때의 예측값 :', pred_y)"
      ],
      "metadata": {
        "colab": {
          "base_uri": "https://localhost:8080/"
        },
        "id": "R5GPy9avJVmL",
        "outputId": "58bdfe02-9edc-4e4e-be03-125b0226279f"
      },
      "execution_count": 14,
      "outputs": [
        {
          "output_type": "stream",
          "name": "stdout",
          "text": [
            "훈련 후 입력이 4일 때의 예측값 : tensor([[7.9989]], grad_fn=<AddmmBackward0>)\n"
          ]
        }
      ]
    },
    {
      "cell_type": "code",
      "source": [
        "# 학습 후의 W와 b의 값\n",
        "print(list(model.parameters()))"
      ],
      "metadata": {
        "colab": {
          "base_uri": "https://localhost:8080/"
        },
        "id": "QI32nSi6KvRQ",
        "outputId": "3522b59d-755b-438d-bba5-a63f5c0fbbef"
      },
      "execution_count": 15,
      "outputs": [
        {
          "output_type": "stream",
          "name": "stdout",
          "text": [
            "[Parameter containing:\n",
            "tensor([[1.9994]], requires_grad=True), Parameter containing:\n",
            "tensor([0.0014], requires_grad=True)]\n"
          ]
        }
      ]
    },
    {
      "cell_type": "code",
      "source": [
        "# 다중 선형 회귀 구현\n",
        "import torch\n",
        "import torch.nn as nn\n",
        "import torch.nn.functional as F\n",
        "\n",
        "torch.manual_seed(1)\n",
        "\n",
        "# 데이터\n",
        "x_train = torch.FloatTensor([[73, 80, 75],\n",
        "                             [93, 88, 93],\n",
        "                             [89, 91, 90],\n",
        "                             [96, 98, 100],\n",
        "                             [73, 66, 70]])\n",
        "y_train = torch.FloatTensor([[152], [185], [180], [196], [142]])\n",
        "\n",
        "# 모델 선언 및 초기화. 다중 선형 회귀이므로 input_dim=3, output_dim=1\n",
        "model = nn.Linear(3, 1)\n",
        "\n",
        "# 가중치와 편향 출력\n",
        "print(list(model.parameters()))\n",
        "\n",
        "# optimizer 설정\n",
        "optimizer = optim.SGD(model.parameters(), lr=1e-5)\n",
        "\n",
        "nb_epochs = 2000\n",
        "for epoch in range(nb_epochs + 1):\n",
        "\n",
        "  # H(x) 계산\n",
        "  prediction = model(x_train)\n",
        "  # model(x_train)은 model.forward(x_train)와 동일함.\n",
        "\n",
        "  # cost 계산\n",
        "  cost = F.mse_loss(prediction, y_train)\n",
        "\n",
        "  # cost로 H(x) 개선\n",
        "  optimizer.zero_grad()\n",
        "  cost.backward()\n",
        "  optimizer.step()\n",
        "\n",
        "  if epoch % 100 == 0:\n",
        "    print('Epoch {:4d}/{} Cost: {:.6f}'.format(\n",
        "        epoch, nb_epochs, cost.item()\n",
        "    ))"
      ],
      "metadata": {
        "colab": {
          "base_uri": "https://localhost:8080/"
        },
        "id": "gm7N3QbTK1V9",
        "outputId": "9ab6522b-30f8-4bfb-ef20-88d58a26e7f2"
      },
      "execution_count": 17,
      "outputs": [
        {
          "output_type": "stream",
          "name": "stdout",
          "text": [
            "[Parameter containing:\n",
            "tensor([[ 0.2975, -0.2548, -0.1119]], requires_grad=True), Parameter containing:\n",
            "tensor([0.2710], requires_grad=True)]\n",
            "Epoch    0/2000 Cost: 31667.597656\n",
            "Epoch  100/2000 Cost: 0.225993\n",
            "Epoch  200/2000 Cost: 0.223911\n",
            "Epoch  300/2000 Cost: 0.221941\n",
            "Epoch  400/2000 Cost: 0.220059\n",
            "Epoch  500/2000 Cost: 0.218271\n",
            "Epoch  600/2000 Cost: 0.216575\n",
            "Epoch  700/2000 Cost: 0.214950\n",
            "Epoch  800/2000 Cost: 0.213413\n",
            "Epoch  900/2000 Cost: 0.211952\n",
            "Epoch 1000/2000 Cost: 0.210560\n",
            "Epoch 1100/2000 Cost: 0.209232\n",
            "Epoch 1200/2000 Cost: 0.207967\n",
            "Epoch 1300/2000 Cost: 0.206761\n",
            "Epoch 1400/2000 Cost: 0.205619\n",
            "Epoch 1500/2000 Cost: 0.204522\n",
            "Epoch 1600/2000 Cost: 0.203484\n",
            "Epoch 1700/2000 Cost: 0.202485\n",
            "Epoch 1800/2000 Cost: 0.201542\n",
            "Epoch 1900/2000 Cost: 0.200635\n",
            "Epoch 2000/2000 Cost: 0.199769\n"
          ]
        }
      ]
    },
    {
      "cell_type": "code",
      "source": [
        "# 임의의 입력 [73, 80, 75]를 선언\n",
        "new_var = torch.FloatTensor([[73, 80, 75]])\n",
        "# 입력한 값에 대해서 예측값 y를 리턴받아서 pred_y에 저장\n",
        "pred_y = model(new_var)\n",
        "print('훈련 후 입력이 73, 80, 75일 때의 예측값 :', pred_y)"
      ],
      "metadata": {
        "colab": {
          "base_uri": "https://localhost:8080/"
        },
        "id": "EHTxWWgRLTFE",
        "outputId": "af7f6416-3711-43f0-9dc8-8bbb844d253d"
      },
      "execution_count": 18,
      "outputs": [
        {
          "output_type": "stream",
          "name": "stdout",
          "text": [
            "훈련 후 입력이 73, 80, 75일 때의 예측값 : tensor([[151.2305]], grad_fn=<AddmmBackward0>)\n"
          ]
        }
      ]
    },
    {
      "cell_type": "code",
      "source": [
        "# w와 b값을 출력\n",
        "print(list(model.parameters()))"
      ],
      "metadata": {
        "colab": {
          "base_uri": "https://localhost:8080/"
        },
        "id": "MwMyr1PBMP6g",
        "outputId": "2b082651-ab96-43ef-bfd7-b7bc086412ed"
      },
      "execution_count": 19,
      "outputs": [
        {
          "output_type": "stream",
          "name": "stdout",
          "text": [
            "[Parameter containing:\n",
            "tensor([[0.9778, 0.4539, 0.5768]], requires_grad=True), Parameter containing:\n",
            "tensor([0.2802], requires_grad=True)]\n"
          ]
        }
      ]
    },
    {
      "cell_type": "code",
      "source": [
        "# 모델을 클래스로 구현\n",
        "# 클래스를 사용한 모델 구현 형식은 대부분의 파이토치 구현체에서 사용하고 있는 방식\n",
        "class LinearRegressionModel(nn.Module): # torch.nn.Module을 상속받은 파이썬 클래스\n",
        "  def __init__(self):\n",
        "    super().__init__()\n",
        "    self.linear = nn.Linear(1, 1) # 단순 선형 회귀\n",
        "\n",
        "    def forward(self, x):\n",
        "      return self.linear(x)\n",
        "\n",
        "model = LinearRegressionModel()\n",
        "\n",
        "# 다중 선형 회귀를 클래스로 구현\n",
        "class MultivariateLinearRegressionModel(nn.Module):\n",
        "  def __init__(self):\n",
        "    super().__init__()\n",
        "    self.linear = nn.Linear(3, 1) # 다중 선형 회귀\n",
        "\n",
        "  def forward(self, x):\n",
        "    return self.linear(x)\n",
        "\n",
        "model = MultivariateLinearRegressionModel()"
      ],
      "metadata": {
        "id": "ICslqCkRMWGH"
      },
      "execution_count": 20,
      "outputs": []
    },
    {
      "cell_type": "code",
      "source": [
        "# 단순 선형 회귀 클래스로 구현하기\n",
        "import torch\n",
        "import torch.nn as nn\n",
        "import torch.nn.functional as F\n",
        "\n",
        "torch.manual_seed(1)\n",
        "\n",
        "# 데이터\n",
        "x_train = torch.FloatTensor([[1], [2], [3]])\n",
        "y_train = torch.FloatTensor([[2], [4], [7]])\n",
        "\n",
        "class LinearRegressionModel(nn.Module):\n",
        "  def __init__(self):\n",
        "    super().__init__()\n",
        "    self.linear = nn.Linear(1, 1)\n",
        "\n",
        "  def forward(self, x):\n",
        "    return self.linear(x)\n",
        "\n",
        "model = LinearRegressionModel()\n",
        "\n",
        "# optimizer 설정\n",
        "optimizer = torch.optim.SGD(model.parameters(), lr=0.01)\n",
        "\n",
        "# 전체 훈련 데이터에 대해 경사 하강법을 2,000회 반복\n",
        "nb_epochs = 2000\n",
        "for epoch in range(nb_epochs + 1):\n",
        "  # H(x) 계산\n",
        "  prediction = model(x_train)\n",
        "\n",
        "  # cost 계산\n",
        "  cost = F.mse_loss(prediction, y_train)\n",
        "\n",
        "  # cost로 H(x) 개선\n",
        "  optimizer.zero_grad()\n",
        "  cost.backward()\n",
        "  optimizer.step()\n",
        "\n",
        "  if epoch % 100 == 0:\n",
        "    print('Epoch {:4d}/{} Cost: {:.6f}'.format(\n",
        "        epoch, nb_epochs, cost.item()\n",
        "    ))"
      ],
      "metadata": {
        "colab": {
          "base_uri": "https://localhost:8080/"
        },
        "id": "jtZCzL0mOIDg",
        "outputId": "212c06a1-029e-4840-e8e7-eb144ff2235b"
      },
      "execution_count": 21,
      "outputs": [
        {
          "output_type": "stream",
          "name": "stdout",
          "text": [
            "Epoch    0/2000 Cost: 16.700600\n",
            "Epoch  100/2000 Cost: 0.130634\n",
            "Epoch  200/2000 Cost: 0.101949\n",
            "Epoch  300/2000 Cost: 0.084224\n",
            "Epoch  400/2000 Cost: 0.073271\n",
            "Epoch  500/2000 Cost: 0.066503\n",
            "Epoch  600/2000 Cost: 0.062320\n",
            "Epoch  700/2000 Cost: 0.059736\n",
            "Epoch  800/2000 Cost: 0.058139\n",
            "Epoch  900/2000 Cost: 0.057152\n",
            "Epoch 1000/2000 Cost: 0.056542\n",
            "Epoch 1100/2000 Cost: 0.056165\n",
            "Epoch 1200/2000 Cost: 0.055932\n",
            "Epoch 1300/2000 Cost: 0.055788\n",
            "Epoch 1400/2000 Cost: 0.055699\n",
            "Epoch 1500/2000 Cost: 0.055644\n",
            "Epoch 1600/2000 Cost: 0.055611\n",
            "Epoch 1700/2000 Cost: 0.055589\n",
            "Epoch 1800/2000 Cost: 0.055576\n",
            "Epoch 1900/2000 Cost: 0.055569\n",
            "Epoch 2000/2000 Cost: 0.055564\n"
          ]
        }
      ]
    },
    {
      "cell_type": "code",
      "source": [
        "# 다중 선형 회귀 클래스로 구현\n",
        "import torch\n",
        "import torch.nn as nn\n",
        "import torch.nn.functional as F\n",
        "torch.manual_seed(1)\n",
        "\n",
        "# 데이터\n",
        "x_train = torch.FloatTensor([[73, 80, 75],\n",
        "                             [93, 88, 93],\n",
        "                             [89, 91, 90],\n",
        "                             [96, 98, 100],\n",
        "                             [73, 66, 70]])\n",
        "y_train = torch.FloatTensor([[152], [185], [180], [196], [142]])\n",
        "\n",
        "class MultivariateLinearRegressionModel(nn.Module):\n",
        "  def __init__(self):\n",
        "    super().__init__()\n",
        "    self.linear = nn.Linear(3, 1)\n",
        "\n",
        "  def forward(self, x):\n",
        "    return self.linear(x)\n",
        "\n",
        "model = MultivariateLinearRegressionModel()\n",
        "\n",
        "# optimizer 설정\n",
        "optimizer = torch.optim.SGD(model.parameters(), lr=1e-5)\n",
        "\n",
        "nb_epochs = 2000\n",
        "for epoch in range(nb_epochs + 1):\n",
        "  # H(x) 계산\n",
        "  prediction = model(x_train)\n",
        "\n",
        "  # cost 계산\n",
        "  cost = F.mse_loss(prediction, y_train)\n",
        "\n",
        "  # cost로 H(x) 개선\n",
        "  optimizer.zero_grad()\n",
        "  cost.backward()\n",
        "  optimizer.step()\n",
        "\n",
        "  if epoch % 100 == 0:\n",
        "    print('Epoch {:4d}/{} Cost: {:.6f}'.format(\n",
        "        epoch, nb_epochs, cost.item()\n",
        "    ))"
      ],
      "metadata": {
        "colab": {
          "base_uri": "https://localhost:8080/"
        },
        "id": "SoZBDSS_PmwX",
        "outputId": "8f42cead-2362-41a6-eb6d-aac65ee73573"
      },
      "execution_count": 22,
      "outputs": [
        {
          "output_type": "stream",
          "name": "stdout",
          "text": [
            "Epoch    0/2000 Cost: 31667.597656\n",
            "Epoch  100/2000 Cost: 0.225993\n",
            "Epoch  200/2000 Cost: 0.223911\n",
            "Epoch  300/2000 Cost: 0.221941\n",
            "Epoch  400/2000 Cost: 0.220059\n",
            "Epoch  500/2000 Cost: 0.218271\n",
            "Epoch  600/2000 Cost: 0.216575\n",
            "Epoch  700/2000 Cost: 0.214950\n",
            "Epoch  800/2000 Cost: 0.213413\n",
            "Epoch  900/2000 Cost: 0.211952\n",
            "Epoch 1000/2000 Cost: 0.210560\n",
            "Epoch 1100/2000 Cost: 0.209232\n",
            "Epoch 1200/2000 Cost: 0.207967\n",
            "Epoch 1300/2000 Cost: 0.206761\n",
            "Epoch 1400/2000 Cost: 0.205619\n",
            "Epoch 1500/2000 Cost: 0.204522\n",
            "Epoch 1600/2000 Cost: 0.203484\n",
            "Epoch 1700/2000 Cost: 0.202485\n",
            "Epoch 1800/2000 Cost: 0.201542\n",
            "Epoch 1900/2000 Cost: 0.200635\n",
            "Epoch 2000/2000 Cost: 0.199769\n"
          ]
        }
      ]
    },
    {
      "cell_type": "markdown",
      "source": [
        "# 3-4 미니 배치와 데이터 로더\n",
        "## 1. 미니 배치와 배치 크기\n",
        "- 전체 데이터에 대해서 경사 하강법을 수행하는 것은 매우 느릴 뿐만 아니라 많은 계산량이 필요\n",
        "- 메모리의 한계로 계산이 불가능한 경우도 있을 수 있음\n",
        "- 전체 데이터를 더 작은 단위로 나누어서 학습하는 개념이 나옴\n",
        "- 이 단위를 미니배치라고 한다.\n",
        "- 미니 배치 학습을 하게 되면 미니 배치만큼만 가져가서 미니 배치에 대한 비용을 계산하고 경사 하강법을 수행한다.\n",
        "- 다음 미니 배치를 가져가서 경사 하강법을 수행하고 마지막미니 배치까지 반복하여 전체 데이터에 대한 학습이 1회 끝나면 1 에포크가 끝난 것이다\n",
        "- 미니 배치의 개수는 미니 배치의 크기를 몇으로 하느냐에 따라서 달라지는데 미니 배치의 크기를 배치 크기라고 한다.\n",
        "- 전체 데이터에 대해서 한 번에 경사 하강법을 수행하는 방법을 배치 **경사 하강법**이라고 부른다.\n",
        "- 미니 배치 단위로 경사 하강법을 수행하는 방법을 **미니 배치 경사 하강법**이라고 부른다.\n",
        "- 배치 경사 하강법은 경사 하강법을 할 때, 전체 데이터를 사용하므로 가중치 값이 최적값에 수렴하는 과정이 매우 안정적이지만, 계산량이 너무 많음.\n",
        "- 미니 배치 경사 하강법은 경사 하강법을 할 때, 전체 데이터의 일부만을 수행하므로 최적값으로 수렴하는 과정에서 값이 조금 헤매기도 하지만 훈련 속도가 빠르다.\n",
        "- 배치 크기는 보통 2의 제곱수를 사용한다.\n",
        "  - CPU와 GPU의 메모리가 2의 배수이므로 배치크기가 2의 제곱수일 경우에 데이터의 송수신 효율을 높일 수 있음.\n",
        "  \n",
        "## 2. 이터레이션\n",
        "- 이터레이션은 한 번의 에포크 내에서 이루어지는 매개변수인 가중치 W와 b의 업데이트 횟수이다.\n",
        "- 전체 데이터가 2000일 때 배치 크기를 200으로 한다면 이터레이션의 수는 총 10개이다."
      ],
      "metadata": {
        "id": "WaBdPkcjReN7"
      }
    },
    {
      "cell_type": "code",
      "source": [
        "# 데이터 로드하기\n",
        "# 데이터를 좀 더 쉽게 다룰 수 있도록 유용한 도구로서 데이터셋과 데이터로더를 제공\n",
        "# 이를 사용하면 미니 배치 학습, 데이터 셔플, 병렬 처리까지 간단하게 수행할 수 있다.\n",
        "# 기본적인 사용법은 Dataset을 정의하고 이를 DataLoader에 전달하는 것이다.\n",
        "\n",
        "import torch\n",
        "import torch.nn as nn\n",
        "import torch.nn.functional as F\n",
        "from torch.utils.data import TensorDataset # 텐서데이터셋. 텐서를 입력받아 Dataset의 형태로 변환해줌\n",
        "from torch.utils.data import DataLoader # 데이터로더\n",
        "\n",
        "x_train  =  torch.FloatTensor([[73,  80,  75],\n",
        "                               [93,  88,  93],\n",
        "                               [89,  91,  90],\n",
        "                               [96,  98,  100],\n",
        "                               [73,  66,  70]])\n",
        "y_train  =  torch.FloatTensor([[152],  [185],  [180],  [196],  [142]])\n",
        "\n",
        "dataset = TensorDataset(x_train, y_train) # datset으로 저장\n",
        "\n",
        "# 데이터로더는 기본적으로 데이터셋과 미니 배치의 크기를 인자로 입력받는다.\n",
        "# shuffle=True를 선택하면 Epoch마다 데이터셋을 섞어서 데이터가 학습되는 순서를 바꾼다.(권장됨)\n",
        "dataloader = DataLoader(dataset, batch_size=2, shuffle=True)\n",
        "\n",
        "model = nn.Linear(3, 1)\n",
        "optimizer = torch.optim.SGD(model.parameters(), lr=1e-5)\n",
        "\n",
        "nb_epochs = 50\n",
        "for epoch in range(nb_epochs + 1):\n",
        "  for batch_idx, samples in enumerate(dataloader):\n",
        "    # print(batch_idx)\n",
        "    # print(samples)\n",
        "    x_train, y_train = samples\n",
        "    # H(x) 계산\n",
        "    prediction = model(x_train)\n",
        "\n",
        "    # cost 계산\n",
        "    cost = F.mse_loss(prediction, y_train)\n",
        "\n",
        "    # cost로 H(x) 개선\n",
        "    optimizer.zero_grad()\n",
        "    cost.backward()\n",
        "    optimizer.step()\n",
        "\n",
        "    print('Epoch {:4d}/{} Batch {}/{} Cost: {:.6f}'.format(\n",
        "        epoch, nb_epochs, batch_idx + 1, len(dataloader), cost.item()\n",
        "    ))"
      ],
      "metadata": {
        "colab": {
          "base_uri": "https://localhost:8080/"
        },
        "id": "mSWgyJSdRKVW",
        "outputId": "4a5b49fe-9236-4550-f0fc-967c33dcde35"
      },
      "execution_count": 26,
      "outputs": [
        {
          "output_type": "stream",
          "name": "stdout",
          "text": [
            "Epoch    0/50 Batch 1/3 Cost: 19805.816406\n",
            "Epoch    0/50 Batch 2/3 Cost: 3113.049805\n",
            "Epoch    0/50 Batch 3/3 Cost: 1298.395020\n",
            "Epoch    1/50 Batch 1/3 Cost: 608.364197\n",
            "Epoch    1/50 Batch 2/3 Cost: 110.540558\n",
            "Epoch    1/50 Batch 3/3 Cost: 32.827255\n",
            "Epoch    2/50 Batch 1/3 Cost: 10.116283\n",
            "Epoch    2/50 Batch 2/3 Cost: 18.584768\n",
            "Epoch    2/50 Batch 3/3 Cost: 3.204240\n",
            "Epoch    3/50 Batch 1/3 Cost: 0.509706\n",
            "Epoch    3/50 Batch 2/3 Cost: 8.668556\n",
            "Epoch    3/50 Batch 3/3 Cost: 0.275426\n",
            "Epoch    4/50 Batch 1/3 Cost: 1.903194\n",
            "Epoch    4/50 Batch 2/3 Cost: 0.914394\n",
            "Epoch    4/50 Batch 3/3 Cost: 14.852406\n",
            "Epoch    5/50 Batch 1/3 Cost: 3.888444\n",
            "Epoch    5/50 Batch 2/3 Cost: 6.443260\n",
            "Epoch    5/50 Batch 3/3 Cost: 2.056635\n",
            "Epoch    6/50 Batch 1/3 Cost: 1.237848\n",
            "Epoch    6/50 Batch 2/3 Cost: 8.351044\n",
            "Epoch    6/50 Batch 3/3 Cost: 0.162975\n",
            "Epoch    7/50 Batch 1/3 Cost: 6.530087\n",
            "Epoch    7/50 Batch 2/3 Cost: 3.324821\n",
            "Epoch    7/50 Batch 3/3 Cost: 0.528692\n",
            "Epoch    8/50 Batch 1/3 Cost: 0.379898\n",
            "Epoch    8/50 Batch 2/3 Cost: 7.022913\n",
            "Epoch    8/50 Batch 3/3 Cost: 3.907041\n",
            "Epoch    9/50 Batch 1/3 Cost: 0.917392\n",
            "Epoch    9/50 Batch 2/3 Cost: 7.523363\n",
            "Epoch    9/50 Batch 3/3 Cost: 3.278798\n",
            "Epoch   10/50 Batch 1/3 Cost: 0.776873\n",
            "Epoch   10/50 Batch 2/3 Cost: 1.136408\n",
            "Epoch   10/50 Batch 3/3 Cost: 15.485887\n",
            "Epoch   11/50 Batch 1/3 Cost: 5.040517\n",
            "Epoch   11/50 Batch 2/3 Cost: 5.901710\n",
            "Epoch   11/50 Batch 3/3 Cost: 0.170955\n",
            "Epoch   12/50 Batch 1/3 Cost: 0.484838\n",
            "Epoch   12/50 Batch 2/3 Cost: 7.141535\n",
            "Epoch   12/50 Batch 3/3 Cost: 2.585522\n",
            "Epoch   13/50 Batch 1/3 Cost: 0.904840\n",
            "Epoch   13/50 Batch 2/3 Cost: 0.961977\n",
            "Epoch   13/50 Batch 3/3 Cost: 15.495736\n",
            "Epoch   14/50 Batch 1/3 Cost: 2.498054\n",
            "Epoch   14/50 Batch 2/3 Cost: 2.868700\n",
            "Epoch   14/50 Batch 3/3 Cost: 13.998143\n",
            "Epoch   15/50 Batch 1/3 Cost: 5.541269\n",
            "Epoch   15/50 Batch 2/3 Cost: 2.554939\n",
            "Epoch   15/50 Batch 3/3 Cost: 4.223434\n",
            "Epoch   16/50 Batch 1/3 Cost: 0.540671\n",
            "Epoch   16/50 Batch 2/3 Cost: 8.764305\n",
            "Epoch   16/50 Batch 3/3 Cost: 0.273715\n",
            "Epoch   17/50 Batch 1/3 Cost: 2.518592\n",
            "Epoch   17/50 Batch 2/3 Cost: 8.046100\n",
            "Epoch   17/50 Batch 3/3 Cost: 1.605014\n",
            "Epoch   18/50 Batch 1/3 Cost: 7.156572\n",
            "Epoch   18/50 Batch 2/3 Cost: 1.771893\n",
            "Epoch   18/50 Batch 3/3 Cost: 0.373051\n",
            "Epoch   19/50 Batch 1/3 Cost: 1.113745\n",
            "Epoch   19/50 Batch 2/3 Cost: 8.806334\n",
            "Epoch   19/50 Batch 3/3 Cost: 0.153722\n",
            "Epoch   20/50 Batch 1/3 Cost: 1.609525\n",
            "Epoch   20/50 Batch 2/3 Cost: 1.015617\n",
            "Epoch   20/50 Batch 3/3 Cost: 14.472396\n",
            "Epoch   21/50 Batch 1/3 Cost: 4.989696\n",
            "Epoch   21/50 Batch 2/3 Cost: 3.806339\n",
            "Epoch   21/50 Batch 3/3 Cost: 2.425458\n",
            "Epoch   22/50 Batch 1/3 Cost: 7.383040\n",
            "Epoch   22/50 Batch 2/3 Cost: 0.517456\n",
            "Epoch   22/50 Batch 3/3 Cost: 2.444698\n",
            "Epoch   23/50 Batch 1/3 Cost: 8.907927\n",
            "Epoch   23/50 Batch 2/3 Cost: 2.471103\n",
            "Epoch   23/50 Batch 3/3 Cost: 1.040907\n",
            "Epoch   24/50 Batch 1/3 Cost: 0.268745\n",
            "Epoch   24/50 Batch 2/3 Cost: 8.916920\n",
            "Epoch   24/50 Batch 3/3 Cost: 0.368924\n",
            "Epoch   25/50 Batch 1/3 Cost: 1.398682\n",
            "Epoch   25/50 Batch 2/3 Cost: 6.639023\n",
            "Epoch   25/50 Batch 3/3 Cost: 2.654280\n",
            "Epoch   26/50 Batch 1/3 Cost: 7.183318\n",
            "Epoch   26/50 Batch 2/3 Cost: 1.693151\n",
            "Epoch   26/50 Batch 3/3 Cost: 0.356610\n",
            "Epoch   27/50 Batch 1/3 Cost: 0.620561\n",
            "Epoch   27/50 Batch 2/3 Cost: 0.974934\n",
            "Epoch   27/50 Batch 3/3 Cost: 15.555499\n",
            "Epoch   28/50 Batch 1/3 Cost: 5.510848\n",
            "Epoch   28/50 Batch 2/3 Cost: 3.838915\n",
            "Epoch   28/50 Batch 3/3 Cost: 1.117522\n",
            "Epoch   29/50 Batch 1/3 Cost: 1.423910\n",
            "Epoch   29/50 Batch 2/3 Cost: 0.728070\n",
            "Epoch   29/50 Batch 3/3 Cost: 14.466592\n",
            "Epoch   30/50 Batch 1/3 Cost: 5.441458\n",
            "Epoch   30/50 Batch 2/3 Cost: 4.077650\n",
            "Epoch   30/50 Batch 3/3 Cost: 1.203577\n",
            "Epoch   31/50 Batch 1/3 Cost: 0.920669\n",
            "Epoch   31/50 Batch 2/3 Cost: 8.265849\n",
            "Epoch   31/50 Batch 3/3 Cost: 0.184304\n",
            "Epoch   32/50 Batch 1/3 Cost: 1.929440\n",
            "Epoch   32/50 Batch 2/3 Cost: 0.847159\n",
            "Epoch   32/50 Batch 3/3 Cost: 14.294967\n",
            "Epoch   33/50 Batch 1/3 Cost: 6.558474\n",
            "Epoch   33/50 Batch 2/3 Cost: 1.743139\n",
            "Epoch   33/50 Batch 3/3 Cost: 2.531001\n",
            "Epoch   34/50 Batch 1/3 Cost: 7.323958\n",
            "Epoch   34/50 Batch 2/3 Cost: 0.464327\n",
            "Epoch   34/50 Batch 3/3 Cost: 1.706154\n",
            "Epoch   35/50 Batch 1/3 Cost: 7.739828\n",
            "Epoch   35/50 Batch 2/3 Cost: 1.700001\n",
            "Epoch   35/50 Batch 3/3 Cost: 0.865142\n",
            "Epoch   36/50 Batch 1/3 Cost: 6.766288\n",
            "Epoch   36/50 Batch 2/3 Cost: 0.694604\n",
            "Epoch   36/50 Batch 3/3 Cost: 2.610067\n",
            "Epoch   37/50 Batch 1/3 Cost: 0.912137\n",
            "Epoch   37/50 Batch 2/3 Cost: 7.979145\n",
            "Epoch   37/50 Batch 3/3 Cost: 0.529069\n",
            "Epoch   38/50 Batch 1/3 Cost: 7.277652\n",
            "Epoch   38/50 Batch 2/3 Cost: 3.105422\n",
            "Epoch   38/50 Batch 3/3 Cost: 1.141783\n",
            "Epoch   39/50 Batch 1/3 Cost: 0.943211\n",
            "Epoch   39/50 Batch 2/3 Cost: 0.333361\n",
            "Epoch   39/50 Batch 3/3 Cost: 16.561979\n",
            "Epoch   40/50 Batch 1/3 Cost: 4.829612\n",
            "Epoch   40/50 Batch 2/3 Cost: 6.221616\n",
            "Epoch   40/50 Batch 3/3 Cost: 0.001784\n",
            "Epoch   41/50 Batch 1/3 Cost: 0.727924\n",
            "Epoch   41/50 Batch 2/3 Cost: 2.269628\n",
            "Epoch   41/50 Batch 3/3 Cost: 14.881470\n",
            "Epoch   42/50 Batch 1/3 Cost: 2.389761\n",
            "Epoch   42/50 Batch 2/3 Cost: 2.803118\n",
            "Epoch   42/50 Batch 3/3 Cost: 13.526067\n",
            "Epoch   43/50 Batch 1/3 Cost: 5.634038\n",
            "Epoch   43/50 Batch 2/3 Cost: 5.908001\n",
            "Epoch   43/50 Batch 3/3 Cost: 3.596016\n",
            "Epoch   44/50 Batch 1/3 Cost: 0.961089\n",
            "Epoch   44/50 Batch 2/3 Cost: 7.005693\n",
            "Epoch   44/50 Batch 3/3 Cost: 1.047424\n",
            "Epoch   45/50 Batch 1/3 Cost: 1.324495\n",
            "Epoch   45/50 Batch 2/3 Cost: 8.879490\n",
            "Epoch   45/50 Batch 3/3 Cost: 1.218084\n",
            "Epoch   46/50 Batch 1/3 Cost: 1.386563\n",
            "Epoch   46/50 Batch 2/3 Cost: 0.688928\n",
            "Epoch   46/50 Batch 3/3 Cost: 14.164882\n",
            "Epoch   47/50 Batch 1/3 Cost: 5.253158\n",
            "Epoch   47/50 Batch 2/3 Cost: 0.878389\n",
            "Epoch   47/50 Batch 3/3 Cost: 12.465200\n",
            "Epoch   48/50 Batch 1/3 Cost: 4.900480\n",
            "Epoch   48/50 Batch 2/3 Cost: 2.717587\n",
            "Epoch   48/50 Batch 3/3 Cost: 4.346235\n",
            "Epoch   49/50 Batch 1/3 Cost: 0.468638\n",
            "Epoch   49/50 Batch 2/3 Cost: 8.432802\n",
            "Epoch   49/50 Batch 3/3 Cost: 3.568234\n",
            "Epoch   50/50 Batch 1/3 Cost: 7.351080\n",
            "Epoch   50/50 Batch 2/3 Cost: 1.054874\n",
            "Epoch   50/50 Batch 3/3 Cost: 2.177894\n"
          ]
        }
      ]
    },
    {
      "cell_type": "code",
      "source": [
        "# 임의의 입력 [73, 80, 75]를 선언\n",
        "new_var = torch.FloatTensor([[73, 80, 75]])\n",
        "# 임력한 값에 대해서 예측값 y를 리턴받아서 pred_y에 저장\n",
        "pred_y = model(new_var)\n",
        "print('훈련 후 입력이 73, 80, 75일 때의 예측값 :', pred_y.item())"
      ],
      "metadata": {
        "colab": {
          "base_uri": "https://localhost:8080/"
        },
        "id": "mk_uiukRVQFF",
        "outputId": "b9b73cfb-e7f2-4463-ad1f-62a07a673832"
      },
      "execution_count": 28,
      "outputs": [
        {
          "output_type": "stream",
          "name": "stdout",
          "text": [
            "훈련 후 입력이 73, 80, 75일 때의 예측값 : 148.00003051757812\n"
          ]
        }
      ]
    },
    {
      "cell_type": "markdown",
      "source": [
        "# 커스템 데이터셋\n",
        "- torch.utils.data.Dataset을 상속받아 직접 커스템 데이터셋을 만드는 경우도 있다.\n",
        "- torch.utils.data.Dataset은 데이터셋을 제공하는 추상 클래스이다.\n",
        "- Dataset을 상속받아 __init__, __len__, __getitem__을 오버라이드 하여 커스템 데이터셋을 만들 수 있음.\n",
        "- `__init__` : 데이터셋의 전처리를 해주는 부분\n",
        "- `__len__` : 데이터셋의 길이. 즉, 총 샘플의 수를 적어주는 부분\n",
        "- `__ getitem__` : 데이터셋에서 특정 1개의 샘플을 가져오는 함수\n",
        "- len(dataset)을 했을 때 데이터셋의 크기를 리턴할 **len**\n",
        "- dataset[i]을 했을 때 i번째 샘플을 가져오도록 하는 인덱싱을 위한 **get_item**"
      ],
      "metadata": {
        "id": "02dVD19BWmXM"
      }
    },
    {
      "cell_type": "code",
      "source": [
        "# 커스텀 데이터셋으로 선형 회귀 구현하기\n",
        "import torch\n",
        "import torch.nn.functional as F\n",
        "from torch.utils.data import Dataset\n",
        "from torch.utils.data import DataLoader\n",
        "\n",
        "# Dataset 상속\n",
        "class CustomDataset(Dataset):\n",
        "  def __init__(self):\n",
        "    self.x_data = [[73, 80, 75],\n",
        "                   [93, 88, 93],\n",
        "                   [89, 91, 90],\n",
        "                   [96, 98, 100],\n",
        "                   [73, 66, 70]]\n",
        "    self.y_data = [[152], [185], [180], [196], [142]]\n",
        "\n",
        "  # 총 데이터의 개수를 리턴\n",
        "  def __len__(self):\n",
        "    return len(self.x_data)\n",
        "\n",
        "  # 인덱스를 입력받아 그에 맵핑되는 입출력 데이터를 파이토치의 Tensor 형태로 리턴\n",
        "  def __getitem__(self, idx):\n",
        "    x = torch.FloatTensor(self.x_data[idx])\n",
        "    y = torch.FloatTensor(self.y_data[idx])\n",
        "    return x, y\n",
        "\n",
        "dataset = CustomDataset()\n",
        "dataloader = DataLoader(dataset, batch_size=2, shuffle=True)\n",
        "\n",
        "model = torch.nn.Linear(3, 1)\n",
        "optimizer = torch.optim.SGD(model.parameters(), lr=1e-5)\n",
        "\n",
        "nb_epochs = 20\n",
        "for epoch in range(nb_epochs + 1):\n",
        "  for batch_idx, samples in enumerate(dataloader):\n",
        "    x_train, y_train = samples\n",
        "\n",
        "    # H(x) 계산\n",
        "    prediction = model(x_train)\n",
        "\n",
        "    # cost 계산\n",
        "    cost = F.mse_loss(prediction, y_train)\n",
        "\n",
        "    # cost로 H(x) 개선\n",
        "    optimizer.zero_grad()\n",
        "    cost.backward()\n",
        "    optimizer.step()\n",
        "\n",
        "    print('Epoch {:4d}/{} Batch {}/{} Cost: {:.6f}'.format(\n",
        "        epoch, nb_epochs, batch_idx + 1, len(dataloader), cost.item()\n",
        "    ))"
      ],
      "metadata": {
        "colab": {
          "base_uri": "https://localhost:8080/"
        },
        "id": "735kPgT8V4sk",
        "outputId": "a4d85b3d-2bc6-412c-8016-373be7251218"
      },
      "execution_count": 29,
      "outputs": [
        {
          "output_type": "stream",
          "name": "stdout",
          "text": [
            "Epoch    0/20 Batch 1/3 Cost: 17185.640625\n",
            "Epoch    0/20 Batch 2/3 Cost: 2274.591309\n",
            "Epoch    0/20 Batch 3/3 Cost: 1493.785522\n",
            "Epoch    1/20 Batch 1/3 Cost: 359.227722\n",
            "Epoch    1/20 Batch 2/3 Cost: 135.375381\n",
            "Epoch    1/20 Batch 3/3 Cost: 33.336632\n",
            "Epoch    2/20 Batch 1/3 Cost: 13.659433\n",
            "Epoch    2/20 Batch 2/3 Cost: 4.299152\n",
            "Epoch    2/20 Batch 3/3 Cost: 0.017900\n",
            "Epoch    3/20 Batch 1/3 Cost: 1.512465\n",
            "Epoch    3/20 Batch 2/3 Cost: 1.201954\n",
            "Epoch    3/20 Batch 3/3 Cost: 0.917487\n",
            "Epoch    4/20 Batch 1/3 Cost: 1.302667\n",
            "Epoch    4/20 Batch 2/3 Cost: 0.474953\n",
            "Epoch    4/20 Batch 3/3 Cost: 1.322942\n",
            "Epoch    5/20 Batch 1/3 Cost: 0.399604\n",
            "Epoch    5/20 Batch 2/3 Cost: 1.046582\n",
            "Epoch    5/20 Batch 3/3 Cost: 0.207082\n",
            "Epoch    6/20 Batch 1/3 Cost: 0.154813\n",
            "Epoch    6/20 Batch 2/3 Cost: 0.891854\n",
            "Epoch    6/20 Batch 3/3 Cost: 0.879822\n",
            "Epoch    7/20 Batch 1/3 Cost: 0.192756\n",
            "Epoch    7/20 Batch 2/3 Cost: 0.490677\n",
            "Epoch    7/20 Batch 3/3 Cost: 1.817000\n",
            "Epoch    8/20 Batch 1/3 Cost: 0.662779\n",
            "Epoch    8/20 Batch 2/3 Cost: 0.664682\n",
            "Epoch    8/20 Batch 3/3 Cost: 1.389144\n",
            "Epoch    9/20 Batch 1/3 Cost: 0.808464\n",
            "Epoch    9/20 Batch 2/3 Cost: 0.645043\n",
            "Epoch    9/20 Batch 3/3 Cost: 1.320556\n",
            "Epoch   10/20 Batch 1/3 Cost: 0.460911\n",
            "Epoch   10/20 Batch 2/3 Cost: 0.665116\n",
            "Epoch   10/20 Batch 3/3 Cost: 1.070790\n",
            "Epoch   11/20 Batch 1/3 Cost: 0.385657\n",
            "Epoch   11/20 Batch 2/3 Cost: 1.035754\n",
            "Epoch   11/20 Batch 3/3 Cost: 0.104180\n",
            "Epoch   12/20 Batch 1/3 Cost: 0.383291\n",
            "Epoch   12/20 Batch 2/3 Cost: 1.015327\n",
            "Epoch   12/20 Batch 3/3 Cost: 0.114511\n",
            "Epoch   13/20 Batch 1/3 Cost: 0.524746\n",
            "Epoch   13/20 Batch 2/3 Cost: 1.485153\n",
            "Epoch   13/20 Batch 3/3 Cost: 0.243376\n",
            "Epoch   14/20 Batch 1/3 Cost: 0.149037\n",
            "Epoch   14/20 Batch 2/3 Cost: 0.933138\n",
            "Epoch   14/20 Batch 3/3 Cost: 0.771189\n",
            "Epoch   15/20 Batch 1/3 Cost: 0.399622\n",
            "Epoch   15/20 Batch 2/3 Cost: 1.685194\n",
            "Epoch   15/20 Batch 3/3 Cost: 0.207916\n",
            "Epoch   16/20 Batch 1/3 Cost: 0.972762\n",
            "Epoch   16/20 Batch 2/3 Cost: 0.424469\n",
            "Epoch   16/20 Batch 3/3 Cost: 0.391770\n",
            "Epoch   17/20 Batch 1/3 Cost: 0.434527\n",
            "Epoch   17/20 Batch 2/3 Cost: 0.929718\n",
            "Epoch   17/20 Batch 3/3 Cost: 0.177657\n",
            "Epoch   18/20 Batch 1/3 Cost: 0.906716\n",
            "Epoch   18/20 Batch 2/3 Cost: 0.135061\n",
            "Epoch   18/20 Batch 3/3 Cost: 0.857834\n",
            "Epoch   19/20 Batch 1/3 Cost: 0.403240\n",
            "Epoch   19/20 Batch 2/3 Cost: 1.078891\n",
            "Epoch   19/20 Batch 3/3 Cost: 0.083495\n",
            "Epoch   20/20 Batch 1/3 Cost: 0.384562\n",
            "Epoch   20/20 Batch 2/3 Cost: 0.302080\n",
            "Epoch   20/20 Batch 3/3 Cost: 1.972950\n"
          ]
        }
      ]
    },
    {
      "cell_type": "code",
      "source": [
        "# 임의의 입력 [73, 80, 75]를 선언\n",
        "new_var = torch.FloatTensor([[73, 80, 75]])\n",
        "# 입력한 값에 대해서 예측값 y를 리턴받아서 pred_y에 저장\n",
        "pred_y = model(new_var)\n",
        "print('훈련 후 입력이 73, 80, 75일 때의 예측값 :', pred_y)"
      ],
      "metadata": {
        "colab": {
          "base_uri": "https://localhost:8080/"
        },
        "id": "T6ajQxy8ZrZv",
        "outputId": "522040ad-8733-43b0-c871-2604c231c7c2"
      },
      "execution_count": 30,
      "outputs": [
        {
          "output_type": "stream",
          "name": "stdout",
          "text": [
            "훈련 후 입력이 73, 80, 75일 때의 예측값 : tensor([[150.8657]], grad_fn=<AddmmBackward0>)\n"
          ]
        }
      ]
    },
    {
      "cell_type": "code",
      "source": [],
      "metadata": {
        "id": "zDZaMWRyaJ01"
      },
      "execution_count": null,
      "outputs": []
    }
  ]
}